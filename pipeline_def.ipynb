{
 "cells": [
  {
   "cell_type": "code",
   "execution_count": 2,
   "metadata": {},
   "outputs": [],
   "source": [
    "import os \n",
    "from kfp import dsl\n",
    "from kfp.dsl import Artifact, Dataset, Input, Output, Model, Metrics, Markdown, HTML, component\n",
    "os.environ[\"GOOGLE_APPLICATION_CREDENTIALS\"] = \"dev_mlops.json\"\n",
    "from kfp import compiler\n",
    "from google.cloud import aiplatform as vertex\n",
    "from google.cloud.aiplatform import pipeline_jobs\n",
    "from datetime import datetime\n",
    "import pandas as pd\n",
    "from typing import NamedTuple\n",
    "\n",
    "import numpy as np\n"
   ]
  },
  {
   "cell_type": "code",
   "execution_count": 57,
   "metadata": {},
   "outputs": [],
   "source": [
    "project_id = \"mlops-workshop-420523\"\n",
    "region = \"us-central1\"\n",
    "bucket = \"gs://ml_gcp_bucket\"\n",
    "pipeline_root_path = f\"{bucket}/stroke/pipelines\"\n",
    "base_image = \"us-docker.pkg.dev/vertex-ai/training/sklearn-cpu.1-0:latest\""
   ]
  },
  {
   "cell_type": "code",
   "execution_count": 58,
   "metadata": {},
   "outputs": [],
   "source": [
    "# Read dataset\n",
    "@component(base_image=base_image)\n",
    "def get_stroke_data(filepath: str, dataset_train: Output[Dataset]):\n",
    "    import pandas as pd\n",
    "    df_train = pd.read_csv(filepath)\n",
    "    df_train.to_csv(dataset_train.path, index=False)"
   ]
  },
  {
   "cell_type": "code",
   "execution_count": 59,
   "metadata": {},
   "outputs": [],
   "source": [
    "# data preprocesssing\n",
    "@component(base_image=base_image)\n",
    "def preprocess_stroke_data(train_df: Input[Dataset], dataset_train_preprocessed: Output[Dataset]):\n",
    "    import pandas as pd\n",
    "\n",
    "    categorical_columns=[\"gender\", \"ever_married\", \"work_type\", \"Residence_type\", \"smoking_status\"]\n",
    "    target_column=\"stroke\"\n",
    "\n",
    "    dataset_df = pd.read_csv(train_df.path)\n",
    "    \n",
    "    # one hot encoding categorical columns\n",
    "    dataset_df = pd.get_dummies(dataset_df, columns=categorical_columns)\n",
    "\n",
    "    # fill null values\n",
    "    dataset_df = dataset_df.fillna(dataset_df.mean())\n",
    "\n",
    "    dataset_df.to_csv(dataset_train_preprocessed.path, index=False)\n",
    "\n",
    "\n"
   ]
  },
  {
   "cell_type": "code",
   "execution_count": 60,
   "metadata": {},
   "outputs": [],
   "source": [
    "# Train test split\n",
    "@component(base_image=base_image)\n",
    "def train_test_split(\n",
    "    dataset_in: Input[Dataset],\n",
    "    dataset_train: Output[Dataset],\n",
    "    dataset_test: Output[Dataset],\n",
    "    test_size: float = 0.3,\n",
    "):\n",
    "    import pandas as pd\n",
    "    from sklearn.model_selection import train_test_split\n",
    "    # split features and target\n",
    "    df = pd.read_csv(dataset_in.path)\n",
    "\n",
    "    # # split train and test sets\n",
    "    df_train, df_test = train_test_split(df, test_size=test_size, random_state=0)\n",
    "    \n",
    "    # dataset_train = Dataset()\n",
    "    # dataset_test = Dataset()\n",
    "\n",
    "    df_train.to_csv(dataset_train.path, index=False)\n",
    "    df_test.to_csv(dataset_test.path, index=False)\n",
    "\n",
    "    # return dataset_train, dataset_test"
   ]
  },
  {
   "cell_type": "code",
   "execution_count": 61,
   "metadata": {},
   "outputs": [],
   "source": [
    "# train\n",
    "@component(base_image=base_image)\n",
    "def train_stroke(\n",
    "    dataset_train: Input[Dataset],\n",
    "    model: Output[Model],\n",
    "):\n",
    "    import pandas as pd\n",
    "    import pickle\n",
    "    import joblib\n",
    "    from sklearn.tree import DecisionTreeClassifier\n",
    "\n",
    "    TARGET = \"stroke\"\n",
    "\n",
    "    # read train and test data\n",
    "    train_data = pd.read_csv(dataset_train.path)\n",
    "\n",
    "    X_train = train_data.drop(TARGET, axis=1)\n",
    "    y_train = train_data[TARGET].values\n",
    "\n",
    "    dt_model = DecisionTreeClassifier()\n",
    "    dt_model.fit(X_train, y_train)\n",
    "\n",
    "    joblib.dump(dt_model, model.path)\n",
    "\n",
    "\n",
    "    "
   ]
  },
  {
   "cell_type": "code",
   "execution_count": 62,
   "metadata": {},
   "outputs": [],
   "source": [
    "# evaluate model\n",
    "@component(base_image=base_image)\n",
    "def evaluate_stroke(\n",
    "    stroke_model: Input[Model],\n",
    "    dataset_test: Input[Dataset],\n",
    "    metrics_test: Output[Metrics],\n",
    "):\n",
    "    import pandas as pd\n",
    "    import joblib\n",
    "    test_data = pd.read_csv(dataset_test.path)\n",
    "\n",
    "    TARGET = \"stroke\"\n",
    "    X_test = test_data.drop(TARGET, axis=1)\n",
    "    y_test = test_data[TARGET].values\n",
    "\n",
    "    model = joblib.load(stroke_model.path)\n",
    "\n",
    "    mean_acc = model.score(X_test, y_test)\n",
    "\n",
    "    metrics_test.log_metric(\"mean_accuracy\", mean_acc)\n"
   ]
  },
  {
   "cell_type": "code",
   "execution_count": 63,
   "metadata": {},
   "outputs": [],
   "source": [
    "# pipeline\n",
    "TIMESTAMP = datetime.now().strftime(\"%Y%m%d%H%M%S\")\n",
    "DISPLAY_NAME = 'pipeline-stroke-job{}'.format(TIMESTAMP)"
   ]
  },
  {
   "cell_type": "code",
   "execution_count": 64,
   "metadata": {},
   "outputs": [],
   "source": [
    "@dsl.pipeline(\n",
    "    pipeline_root=pipeline_root_path,\n",
    "    # A name for the pipeline. Use to determine the pipeline Context.\n",
    "    name=\"pipeline-houseprice\"   \n",
    ")\n",
    "\n",
    "def pipeline(\n",
    "    data_filepath: str = \"gs://ml_gcp_bucket/stroke/datasets/healthcare-dataset-stroke-data.csv\",\n",
    "    project: str = project_id,\n",
    "    region: str = region, \n",
    "    display_name: str = DISPLAY_NAME,        \n",
    "):\n",
    "\n",
    "    data_op = get_stroke_data(filepath=data_filepath)\n",
    "    data_preprocess_op = preprocess_stroke_data(train_df=data_op.outputs[\"dataset_train\"])\n",
    "    train_test_split_op = train_test_split(dataset_in=data_preprocess_op.outputs[\"dataset_train_preprocessed\"])\n",
    "    train_model_op = train_stroke(dataset_train=train_test_split_op.outputs[\"dataset_train\"])\n",
    "    model_evaluation_op = evaluate_stroke(stroke_model=train_model_op.outputs[\"model\"], dataset_test=train_test_split_op.outputs[\"dataset_test\"])\n",
    "           \n"
   ]
  },
  {
   "cell_type": "code",
   "execution_count": 65,
   "metadata": {},
   "outputs": [],
   "source": [
    "\n",
    "compiler.Compiler().compile(pipeline_func=pipeline,\n",
    "        package_path='ml_stroke.json')"
   ]
  },
  {
   "cell_type": "code",
   "execution_count": 66,
   "metadata": {},
   "outputs": [],
   "source": [
    "start_pipeline = pipeline_jobs.PipelineJob(\n",
    "    display_name=\"stroke-pipeline\",\n",
    "    template_path=\"ml_stroke.json\",\n",
    "    enable_caching=False,\n",
    "    location=region,\n",
    ")"
   ]
  },
  {
   "cell_type": "code",
   "execution_count": 67,
   "metadata": {},
   "outputs": [
    {
     "name": "stdout",
     "output_type": "stream",
     "text": [
      "Creating PipelineJob\n",
      "PipelineJob created. Resource name: projects/667868132446/locations/us-central1/pipelineJobs/pipeline-houseprice-20240417160333\n",
      "To use this PipelineJob in another session:\n",
      "pipeline_job = aiplatform.PipelineJob.get('projects/667868132446/locations/us-central1/pipelineJobs/pipeline-houseprice-20240417160333')\n",
      "View Pipeline Job:\n",
      "https://console.cloud.google.com/vertex-ai/locations/us-central1/pipelines/runs/pipeline-houseprice-20240417160333?project=667868132446\n",
      "PipelineJob projects/667868132446/locations/us-central1/pipelineJobs/pipeline-houseprice-20240417160333 current state:\n",
      "3\n",
      "PipelineJob projects/667868132446/locations/us-central1/pipelineJobs/pipeline-houseprice-20240417160333 current state:\n",
      "3\n",
      "PipelineJob projects/667868132446/locations/us-central1/pipelineJobs/pipeline-houseprice-20240417160333 current state:\n",
      "3\n",
      "PipelineJob projects/667868132446/locations/us-central1/pipelineJobs/pipeline-houseprice-20240417160333 current state:\n",
      "3\n",
      "PipelineJob projects/667868132446/locations/us-central1/pipelineJobs/pipeline-houseprice-20240417160333 current state:\n",
      "3\n",
      "PipelineJob projects/667868132446/locations/us-central1/pipelineJobs/pipeline-houseprice-20240417160333 current state:\n",
      "3\n",
      "PipelineJob projects/667868132446/locations/us-central1/pipelineJobs/pipeline-houseprice-20240417160333 current state:\n",
      "3\n",
      "PipelineJob run completed. Resource name: projects/667868132446/locations/us-central1/pipelineJobs/pipeline-houseprice-20240417160333\n"
     ]
    }
   ],
   "source": [
    "start_pipeline.run()"
   ]
  },
  {
   "cell_type": "code",
   "execution_count": null,
   "metadata": {},
   "outputs": [],
   "source": []
  }
 ],
 "metadata": {
  "kernelspec": {
   "display_name": "mlops",
   "language": "python",
   "name": "python3"
  },
  "language_info": {
   "codemirror_mode": {
    "name": "ipython",
    "version": 3
   },
   "file_extension": ".py",
   "mimetype": "text/x-python",
   "name": "python",
   "nbconvert_exporter": "python",
   "pygments_lexer": "ipython3",
   "version": "3.11.9"
  }
 },
 "nbformat": 4,
 "nbformat_minor": 2
}
